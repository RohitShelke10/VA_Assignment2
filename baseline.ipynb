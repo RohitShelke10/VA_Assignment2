{
 "cells": [
  {
   "cell_type": "code",
   "execution_count": null,
   "metadata": {},
   "outputs": [],
   "source": [
    "import pandas as pd\n",
    "import matplotlib.pyplot as plt\n",
    "import kagglehub\n",
    "from sklearn.feature_extraction.text import TfidfVectorizer\n",
    "from sklearn.metrics.pairwise import cosine_similarity\n",
    "from sklearn.metrics import confusion_matrix, classification_report\n"
   ]
  },
  {
   "cell_type": "code",
   "execution_count": null,
   "metadata": {},
   "outputs": [],
   "source": [
    "# Download latest version\n",
    "path = kagglehub.dataset_download(\"doctri/microsoft-research-paraphrase-corpus\")\n",
    "\n",
    "test_dataset_path = path + \"/msr_paraphrase_test.txt\"\n",
    "\n",
    "test_df = pd.read_csv(test_dataset_path, sep='\\t', header=0, on_bad_lines='skip')\n",
    "\n",
    "# Drop unnecessary columns\n",
    "test_df = test_df[[\"Quality\", \"#1 String\", \"#2 String\"]]\n",
    "\n",
    "# Ensure no missing values\n",
    "test_df.dropna(inplace=True)\n",
    "\n",
    "test_df[\"Quality\"] = test_df[\"Quality\"].astype(int)\n",
    "\n",
    "# Preprocess the sentences\n",
    "def preprocess(text):\n",
    "    return text.lower()\n",
    "\n",
    "test_df['#1 String'] = test_df['#1 String'].apply(preprocess)\n",
    "test_df['#2 String'] = test_df['#2 String'].apply(preprocess)"
   ]
  },
  {
   "cell_type": "code",
   "execution_count": 23,
   "metadata": {},
   "outputs": [],
   "source": [
    "# Vectorize the sentences using TF-IDF\n",
    "vectorizer = TfidfVectorizer()\n",
    "tfidf_matrix1 = vectorizer.fit_transform(test_df['#1 String'])\n",
    "tfidf_matrix2 = vectorizer.transform(test_df['#2 String'])\n",
    "\n",
    "# Compute cosine similarities\n",
    "cosine_similarities = cosine_similarity(tfidf_matrix1, tfidf_matrix2)\n",
    "\n",
    "# Set a threshold for classification (this can be tuned)\n",
    "threshold = 0.5\n",
    "predictions = (cosine_similarities >= threshold).astype(int)\n",
    "\n",
    "# Convert predictions to a flat array\n",
    "y_pred = predictions.diagonal()\n",
    "\n",
    "# Extract true labels\n",
    "y_true = test_df['Quality'].to_numpy()"
   ]
  },
  {
   "cell_type": "code",
   "execution_count": null,
   "metadata": {},
   "outputs": [
    {
     "data": {
      "text/plain": [
       "<Figure size 640x480 with 0 Axes>"
      ]
     },
     "metadata": {},
     "output_type": "display_data"
    },
    {
     "data": {
      "image/png": "[encoded data removed]",
      "text/plain": [
       "<Figure size 480x480 with 2 Axes>"
      ]
     },
     "metadata": {},
     "output_type": "display_data"
    }
   ],
   "source": [
    "\n",
    "cm = confusion_matrix(y_true, y_pred)\n",
    "\n",
    "plt.figure()\n",
    "plt.matshow(cm, cmap='Blues')\n",
    "plt.title(\"Confusion matrix\")\n",
    "plt.xlabel(\"Predicted\")\n",
    "plt.ylabel(\"True\")\n",
    "\n",
    "# Add numbers in the confusion matrix\n",
    "for i in range(cm.shape[0]):\n",
    "    for j in range(cm.shape[1]):\n",
    "        plt.text(x=j, y=i, s=cm[i, j], ha='center', va='center', color='black')\n",
    "\n",
    "plt.colorbar()\n",
    "plt.show()"
   ]
  },
  {
   "cell_type": "code",
   "execution_count": 25,
   "metadata": {},
   "outputs": [
    {
     "name": "stdout",
     "output_type": "stream",
     "text": [
      "              precision    recall  f1-score   support\n",
      "\n",
      "           0       0.69      0.28      0.40       548\n",
      "           1       0.72      0.94      0.81      1082\n",
      "\n",
      "    accuracy                           0.72      1630\n",
      "   macro avg       0.71      0.61      0.61      1630\n",
      "weighted avg       0.71      0.72      0.67      1630\n",
      "\n"
     ]
    }
   ],
   "source": [
    "report = classification_report(y_true, y_pred)\n",
    "print(report)"
   ]
  },
  {
   "cell_type": "code",
   "execution_count": null,
   "metadata": {},
   "outputs": [],
   "source": []
  },
  {
   "cell_type": "code",
   "execution_count": null,
   "metadata": {},
   "outputs": [],
   "source": []
  }
 ],
 "metadata": {
  "kernelspec": {
   "display_name": "venv",
   "language": "python",
   "name": "python3"
  },
  "language_info": {
   "codemirror_mode": {
    "name": "ipython",
    "version": 3
   },
   "file_extension": ".py",
   "mimetype": "text/x-python",
   "name": "python",
   "nbconvert_exporter": "python",
   "pygments_lexer": "ipython3",
   "version": "3.11.7"
  }
 },
 "nbformat": 4,
 "nbformat_minor": 2
}
