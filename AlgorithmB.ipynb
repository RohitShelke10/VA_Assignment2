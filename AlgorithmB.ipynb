{
 "cells": [
  {
   "cell_type": "code",
   "execution_count": 13,
   "metadata": {},
   "outputs": [
    {
     "name": "stdout",
     "output_type": "stream",
     "text": [
      "2025-02-22 14:18:55,422 - Use pytorch device_name: mps\n",
      "2025-02-22 14:18:55,422 - Load pretrained SentenceTransformer: sentence-transformers/paraphrase-multilingual-MiniLM-L12-v2\n"
     ]
    }
   ],
   "source": [
    "import pandas as pd\n",
    "import numpy as np\n",
    "import kagglehub\n",
    "from sklearn.metrics import confusion_matrix, classification_report\n",
    "from sentence_transformers import SentenceTransformer, InputExample, losses\n",
    "from sentence_transformers import LoggingHandler\n",
    "from torch.utils.data import DataLoader\n",
    "import matplotlib.pyplot as plt\n",
    "import logging\n",
    "import torch\n",
    "\n",
    "# Load the sentence-transformer model\n",
    "model = SentenceTransformer(\"sentence-transformers/paraphrase-multilingual-MiniLM-L12-v2\")\n",
    "\n",
    "\n",
    "# Set up logging\n",
    "logging.basicConfig(format='%(asctime)s - %(message)s', level=logging.INFO, handlers=[LoggingHandler()])\n"
   ]
  },
  {
   "cell_type": "code",
   "execution_count": 8,
   "metadata": {},
   "outputs": [],
   "source": [
    "# Download latest version\n",
    "path = kagglehub.dataset_download(\"doctri/microsoft-research-paraphrase-corpus\")\n",
    "\n",
    "train_dataset_path = path + \"/msr_paraphrase_train.txt\"\n",
    "test_dataset_path = path + \"/msr_paraphrase_test.txt\"\n",
    "\n",
    "# Load the dataset\n",
    "train_df = pd.read_csv(train_dataset_path, sep='\\t', header=0, on_bad_lines='skip')\n",
    "test_df = pd.read_csv(\"complete_synthetic.csv\", sep=',', header=0, on_bad_lines='skip', encoding='latin1')"
   ]
  },
  {
   "cell_type": "code",
   "execution_count": 9,
   "metadata": {},
   "outputs": [],
   "source": [
    "# Keep only relevant columns\n",
    "train_df = train_df[[\"Quality\", \"#1 String\", \"#2 String\"]]\n",
    "test_df = test_df[[\"Quality\", \"#1 String\", \"#2 String\"]]\n",
    "\n",
    "# Ensure no missing values\n",
    "train_df.dropna(inplace=True)\n",
    "test_df.dropna(inplace=True)\n",
    "\n",
    "# Convert labels to integers (1 = paraphrase, 0 = not paraphrase)\n",
    "train_df[\"Quality\"] = train_df[\"Quality\"].astype(int)\n",
    "test_df[\"Quality\"] = test_df[\"Quality\"].astype(int)"
   ]
  },
  {
   "cell_type": "code",
   "execution_count": 8,
   "metadata": {},
   "outputs": [],
   "source": [
    "# Create InputExamples for training\n",
    "train_examples = [InputExample(texts=[row[\"#1 String\"], row[\"#2 String\"]], label=row[\"Quality\"]) for _, row in train_df.iterrows()]\n",
    "\n",
    "# Create a DataLoader\n",
    "train_dataloader = DataLoader(train_examples, shuffle=True, batch_size=16)\n",
    "\n",
    "# Define the loss function\n",
    "train_loss = losses.CosineSimilarityLoss(model)\n"
   ]
  },
  {
   "cell_type": "code",
   "execution_count": 9,
   "metadata": {},
   "outputs": [
    {
     "name": "stderr",
     "output_type": "stream",
     "text": [
      "                                                                     \r"
     ]
    },
    {
     "data": {
      "text/html": [
       "\n",
       "    <div>\n",
       "      \n",
       "      <progress value='477' max='477' style='width:300px; height:20px; vertical-align: middle;'></progress>\n",
       "      [477/477 02:35, Epoch 3/3]\n",
       "    </div>\n",
       "    <table border=\"1\" class=\"dataframe\">\n",
       "  <thead>\n",
       " <tr style=\"text-align: left;\">\n",
       "      <th>Step</th>\n",
       "      <th>Training Loss</th>\n",
       "    </tr>\n",
       "  </thead>\n",
       "  <tbody>\n",
       "  </tbody>\n",
       "</table><p>"
      ],
      "text/plain": [
       "<IPython.core.display.HTML object>"
      ]
     },
     "metadata": {},
     "output_type": "display_data"
    }
   ],
   "source": [
    "# Fine-tune the model\n",
    "model.fit(train_objectives=[(train_dataloader, train_loss)], epochs=3, warmup_steps=100)"
   ]
  },
  {
   "cell_type": "code",
   "execution_count": 10,
   "metadata": {},
   "outputs": [
    {
     "name": "stderr",
     "output_type": "stream",
     "text": [
      "Batches: 100%|██████████| 5/5 [00:00<00:00, 13.41it/s]\n",
      "Batches: 100%|██████████| 5/5 [00:00<00:00, 21.32it/s]\n"
     ]
    }
   ],
   "source": [
    "# Create InputExamples for the entire test dataset\n",
    "test_examples = [InputExample(texts=[row[\"#1 String\"], row[\"#2 String\"]], label=row[\"Quality\"]) for _, row in test_df.iterrows()]\n",
    "\n",
    "# Extract sentences and labels from InputExamples\n",
    "sentences1 = [example.texts[0] for example in test_examples]\n",
    "sentences2 = [example.texts[1] for example in test_examples]\n",
    "labels = [example.label for example in test_examples]\n",
    "\n",
    "# Generate embeddings for the entire dataset\n",
    "embeddings1 = model.encode(sentences1, convert_to_tensor=True)\n",
    "embeddings2 = model.encode(sentences2, convert_to_tensor=True)\n",
    "\n",
    "# Compute cosine similarity for all pairs\n",
    "cosine_similarities = torch.nn.functional.cosine_similarity(embeddings1, embeddings2).cpu().numpy()\n",
    "\n",
    "# Convert similarities to predictions (adjust threshold as needed)\n",
    "predictions = (cosine_similarities >= 0.65).astype(int)\n",
    "\n",
    "# Convert lists to numpy arrays for metric calculations\n",
    "y_true = np.array(labels)\n",
    "y_pred = predictions  # predictions is already a numpy array"
   ]
  },
  {
   "cell_type": "code",
   "execution_count": 12,
   "metadata": {},
   "outputs": [
    {
     "ename": "NameError",
     "evalue": "name 'confusion_matrix' is not defined",
     "output_type": "error",
     "traceback": [
      "\u001b[0;31m---------------------------------------------------------------------------\u001b[0m",
      "\u001b[0;31mNameError\u001b[0m                                 Traceback (most recent call last)",
      "Cell \u001b[0;32mIn[12], line 2\u001b[0m\n\u001b[1;32m      1\u001b[0m \u001b[38;5;66;03m# Accuracy\u001b[39;00m\n\u001b[0;32m----> 2\u001b[0m cm \u001b[38;5;241m=\u001b[39m \u001b[43mconfusion_matrix\u001b[49m(y_true, y_pred)\n\u001b[1;32m      4\u001b[0m plt\u001b[38;5;241m.\u001b[39mfigure()\n\u001b[1;32m      5\u001b[0m plt\u001b[38;5;241m.\u001b[39mmatshow(cm, cmap\u001b[38;5;241m=\u001b[39m\u001b[38;5;124m'\u001b[39m\u001b[38;5;124mBlues\u001b[39m\u001b[38;5;124m'\u001b[39m)\n",
      "\u001b[0;31mNameError\u001b[0m: name 'confusion_matrix' is not defined"
     ]
    }
   ],
   "source": [
    "# Accuracy\n",
    "cm = confusion_matrix(y_true, y_pred)\n",
    "\n",
    "plt.figure()\n",
    "plt.matshow(cm, cmap='Blues')\n",
    "plt.title(\"Confusion matrix\")\n",
    "plt.xlabel(\"Predicted\")\n",
    "plt.ylabel(\"True\")\n",
    "\n",
    "# Add numbers in the confusion matrix\n",
    "for i in range(cm.shape[0]):\n",
    "    for j in range(cm.shape[1]):\n",
    "        plt.text(x=j, y=i, s=cm[i, j], ha='center', va='center', color='black')\n",
    "\n",
    "plt.colorbar()\n",
    "plt.show()"
   ]
  },
  {
   "cell_type": "code",
   "execution_count": null,
   "metadata": {},
   "outputs": [],
   "source": [
    "report = classification_report(y_true, y_pred)\n",
    "print(report)"
   ]
  },
  {
   "cell_type": "code",
   "execution_count": null,
   "metadata": {},
   "outputs": [],
   "source": []
  }
 ],
 "metadata": {
  "kernelspec": {
   "display_name": "venv",
   "language": "python",
   "name": "python3"
  },
  "language_info": {
   "codemirror_mode": {
    "name": "ipython",
    "version": 3
   },
   "file_extension": ".py",
   "mimetype": "text/x-python",
   "name": "python",
   "nbconvert_exporter": "python",
   "pygments_lexer": "ipython3",
   "version": "3.11.7"
  }
 },
 "nbformat": 4,
 "nbformat_minor": 2
}
